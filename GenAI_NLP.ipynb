{
 "cells": [
  {
   "cell_type": "markdown",
   "id": "34d11601-cf0f-445e-9e0b-693ee25df618",
   "metadata": {},
   "source": [
    "# Tokenization"
   ]
  },
  {
   "cell_type": "code",
   "execution_count": 1,
   "id": "f0b8f6e6-f8cf-4abe-a2f0-a84c0c9748e3",
   "metadata": {},
   "outputs": [
    {
     "name": "stderr",
     "output_type": "stream",
     "text": [
      "[nltk_data] Downloading package punkt to\n",
      "[nltk_data]     C:\\Users\\psagv\\AppData\\Roaming\\nltk_data...\n",
      "[nltk_data]   Package punkt is already up-to-date!\n"
     ]
    },
    {
     "data": {
      "text/plain": [
       "True"
      ]
     },
     "execution_count": 1,
     "metadata": {},
     "output_type": "execute_result"
    }
   ],
   "source": [
    "import nltk \n",
    "from nltk.tokenize import word_tokenize, sent_tokenize \n",
    "nltk.download('punkt')"
   ]
  },
  {
   "cell_type": "code",
   "execution_count": 2,
   "id": "473340d2-f1e1-4e9f-a2ce-80b286db7b3a",
   "metadata": {},
   "outputs": [
    {
     "name": "stdout",
     "output_type": "stream",
     "text": [
      "Word Tokens: ['Tokenization', 'is', 'an', 'essential', 'step', 'in', 'NLP', '.', 'It', 'helps', 'in', 'breaking', 'down', 'text', '.']\n"
     ]
    }
   ],
   "source": [
    "text = \"Tokenization is an essential step in NLP. It helps in breaking down text.\" \n",
    "# Word Tokenization \n",
    "word_tokens = word_tokenize(text) \n",
    "print(\"Word Tokens:\", word_tokens)"
   ]
  },
  {
   "cell_type": "markdown",
   "id": "94f08199-c436-49ce-b4b7-addc31ffdc1d",
   "metadata": {},
   "source": [
    "# Sentence Tokenization "
   ]
  },
  {
   "cell_type": "code",
   "execution_count": 3,
   "id": "74fa1256-6d3c-47b6-8b7f-237ce3a9b3d4",
   "metadata": {},
   "outputs": [
    {
     "name": "stdout",
     "output_type": "stream",
     "text": [
      "Sentence Tokens: ['Tokenization is an essential step in NLP.', 'It helps in breaking down text.']\n"
     ]
    }
   ],
   "source": [
    "# Sentence Tokenization \n",
    "sentence_tokens = sent_tokenize(text) \n",
    "print(\"Sentence Tokens:\", sentence_tokens)"
   ]
  },
  {
   "cell_type": "markdown",
   "id": "d24df4d3-0f7b-4577-8d6e-f78dad932d6c",
   "metadata": {},
   "source": [
    "# Embeddings"
   ]
  },
  {
   "cell_type": "code",
   "execution_count": 4,
   "id": "969615a5-74ea-43a8-8069-4a1726242357",
   "metadata": {},
   "outputs": [],
   "source": [
    "import matplotlib.pyplot as plt \n",
    "from sklearn.decomposition import PCA \n",
    "import numpy as np"
   ]
  },
  {
   "cell_type": "code",
   "execution_count": 5,
   "id": "b8259fe2-7c08-454c-8f99-52ca89936fad",
   "metadata": {},
   "outputs": [],
   "source": [
    "# Sample word vectors (normally obtained from a model like Word2Vec) \n",
    "word_vectors = { \n",
    "    \"king\": [0.5, 0.8, 0.1], \n",
    "    \"queen\": [0.6, 0.7, 0.2], \n",
    "    \"man\": [0.9, 0.2, 0.5], \n",
    "    \"woman\": [0.8, 0.3, 0.6] \n",
    "} \n",
    "words = list(word_vectors.keys()) \n",
    "vectors = np.array(list(word_vectors.values()))"
   ]
  },
  {
   "cell_type": "code",
   "execution_count": 6,
   "id": "5df530e3-f6fd-42b9-bf77-1c0e09183ea9",
   "metadata": {},
   "outputs": [
    {
     "data": {
      "image/png": "[encoded data removed]",
      "text/plain": [
       "<Figure size 600x600 with 1 Axes>"
      ]
     },
     "metadata": {},
     "output_type": "display_data"
    }
   ],
   "source": [
    "# Reduce dimensions to 2D using PCA \n",
    "pca = PCA(n_components=2)\n",
    "reduced_vectors = pca.fit_transform(vectors) \n",
    "plt.figure(figsize=(6, 6)) \n",
    "for i, word in enumerate(words): \n",
    "    plt.scatter(reduced_vectors[i, 0], reduced_vectors[i, 1]) \n",
    "    plt.text(reduced_vectors[i, 0] + 0.01,  \n",
    "reduced_vectors[i, 1] + 0.01, word) \n",
    "plt.show()"
   ]
  },
  {
   "cell_type": "markdown",
   "id": "001fe094-3522-4d9d-a7e5-7d38e1f82b92",
   "metadata": {},
   "source": [
    "# 3. Embedding Techniques \n",
    "# 3.1 \n",
    "# Word2Vec "
   ]
  },
  {
   "cell_type": "code",
   "execution_count": 7,
   "id": "be03cf4f-e3bb-41e0-8ab0-0cf9ea368360",
   "metadata": {},
   "outputs": [],
   "source": [
    "from gensim.models import Word2Vec \n",
    "sentences = [[\"I\", \"love\", \"natural\", \"language\", \"processing\"], \n",
    "             [\"Word2Vec\", \"is\", \"a\", \"great\", \"embedding\",\n",
    " \"technique\"]] "
   ]
  },
  {
   "cell_type": "code",
   "execution_count": 8,
   "id": "0a156481-e5cb-4417-9a32-7530c43af196",
   "metadata": {},
   "outputs": [],
   "source": [
    "# Train model \n",
    "model = Word2Vec(sentences, vector_size=50, window=5,\n",
    " min_count=1, workers=4)"
   ]
  },
  {
   "cell_type": "code",
   "execution_count": 9,
   "id": "59e5ebeb-57fc-4f57-9de7-2dbda7c89d77",
   "metadata": {},
   "outputs": [
    {
     "name": "stdout",
     "output_type": "stream",
     "text": [
      "Word2Vec<vocab=11, vector_size=50, alpha=0.025>\n"
     ]
    }
   ],
   "source": [
    "print(model)# \n",
    "# Get word vector"
   ]
  },
  {
   "cell_type": "code",
   "execution_count": 10,
   "id": "927634ce-7a44-49ef-98fe-fe66a82c57ce",
   "metadata": {},
   "outputs": [
    {
     "name": "stdout",
     "output_type": "stream",
     "text": [
      "[-0.01427803  0.00248206 -0.01435343 -0.00448924  0.00743861  0.01166625\n",
      "  0.00239637  0.00420546 -0.00822078  0.01445067 -0.01261408  0.00929443\n",
      " -0.01643995  0.00407294 -0.0099541  -0.00849538 -0.00621797  0.01131042\n",
      "  0.0115968  -0.0099493   0.00154666 -0.01699156  0.01561961  0.01851458\n",
      " -0.00548466  0.00160045  0.0014933   0.01095577 -0.01721216  0.00116891\n",
      "  0.01373884  0.00446319  0.00224935 -0.01864431  0.01696473 -0.01252825\n",
      " -0.00598475  0.00698757 -0.00154526  0.00282258  0.00356398 -0.0136578\n",
      " -0.01944962  0.01808117  0.01239611 -0.01382586  0.00680696  0.00041213\n",
      "  0.00950749 -0.01423989]\n"
     ]
    }
   ],
   "source": [
    " print(model.wv[\"natural\"])  # Word embedding for \"natural\""
   ]
  },
  {
   "cell_type": "markdown",
   "id": "a6fe7663-4176-4553-90ab-0d0ef7ee471b",
   "metadata": {},
   "source": [
    "# 3.2 GloVe (Global Vectors for Word Representation)"
   ]
  },
  {
   "cell_type": "code",
   "execution_count": 17,
   "id": "0b4ff12f-b014-4c6a-9870-4be1b650864d",
   "metadata": {},
   "outputs": [],
   "source": [
    "import numpy as np"
   ]
  },
  {
   "cell_type": "code",
   "execution_count": 18,
   "id": "918d513a-a249-4e62-a7b0-bd66cfd4186f",
   "metadata": {},
   "outputs": [],
   "source": [
    "path = r\"C:\\Users\\psagv\\Documents\\glove.6B\\glove.6B.100d.txt\""
   ]
  },
  {
   "cell_type": "code",
   "execution_count": 19,
   "id": "6419cf15-8422-4f20-aaf8-ffda5bc8c9dd",
   "metadata": {},
   "outputs": [],
   "source": [
    "def load_glove_model(file_path):\n",
    "    print(\"Loading GloVe model...\")\n",
    "    glove = {}\n",
    "    with open(file_path, 'r', encoding='utf8') as f:\n",
    "        for line in f:\n",
    "            parts = line.strip().split()\n",
    "            word = parts[0]\n",
    "            vector = list(map(float, parts[1:]))\n",
    "            glove[word] = vector\n",
    "    print(\"Done. Loaded {} words.\".format(len(glove)))\n",
    "    return glove\n"
   ]
  },
  {
   "cell_type": "code",
   "execution_count": 20,
   "id": "f78ede41-bf34-492e-bacf-0960bfcd7d55",
   "metadata": {},
   "outputs": [
    {
     "name": "stdout",
     "output_type": "stream",
     "text": [
      "Loading GloVe model...\n",
      "Done. Loaded 400000 words.\n",
      "[-0.32307, -0.87616, 0.21977, 0.25268, 0.22976, 0.7388, -0.37954, -0.35307, -0.84369, -1.1113, -0.30266, 0.33178, -0.25113, 0.30448, -0.077491, -0.89815, 0.092496, -1.1407, -0.58324, 0.66869, -0.23122, -0.95855, 0.28262, -0.078848, 0.75315, 0.26584, 0.3422, -0.33949, 0.95608, 0.065641, 0.45747, 0.39835, 0.57965, 0.39267, -0.21851, 0.58795, -0.55999, 0.63368, -0.043983, -0.68731, -0.37841, 0.38026, 0.61641, -0.88269, -0.12346, -0.37928, -0.38318, 0.23868, 0.6685, -0.43321, -0.11065, 0.081723, 1.1569, 0.78958, -0.21223, -2.3211, -0.67806, 0.44561, 0.65707, 0.1045, 0.46217, 0.19912, 0.25802, 0.057194, 0.53443, -0.43133, -0.34311, 0.59789, -0.58417, 0.068995, 0.23944, -0.85181, 0.30379, -0.34177, -0.25746, -0.031101, -0.16285, 0.45169, -0.91627, 0.64521, 0.73281, -0.22752, 0.30226, 0.044801, -0.83741, 0.55006, -0.52506, -1.7357, 0.4751, -0.70487, 0.056939, -0.7132, 0.089623, 0.41394, -1.3363, -0.61915, -0.33089, -0.52881, 0.16483, -0.98878]\n"
     ]
    }
   ],
   "source": [
    "#open('C:\\\\Users\\\\psagv\\\\Downloads\\\\glove.6B', 'r')\n",
    "\n",
    "path = r\"C:\\Users\\psagv\\Documents\\glove.6B\\glove.6B.100d.txt\"\n",
    "\n",
    "glove_vectors = load_glove_model(path)  # <== use the full path here\n",
    "print(glove_vectors[\"king\"])\n"
   ]
  },
  {
   "cell_type": "markdown",
   "id": "a0d9c3c5-ca08-411b-8fdd-e426c454f1e6",
   "metadata": {},
   "source": [
    "# Training FastText Model "
   ]
  },
  {
   "cell_type": "code",
   "execution_count": 21,
   "id": "1511627f-1dee-4ab4-af8a-08da765d7ea3",
   "metadata": {},
   "outputs": [],
   "source": [
    "from gensim.models import FastText "
   ]
  },
  {
   "cell_type": "code",
   "execution_count": 22,
   "id": "e44f27cd-16eb-4063-8535-6da2a6ce894d",
   "metadata": {},
   "outputs": [],
   "source": [
    "sentences = [[\"I\", \"love\", \"NLP\"], \n",
    "             [\"FastText\", \"handles\", \"subwords\", \"effectively\"]]"
   ]
  },
  {
   "cell_type": "code",
   "execution_count": 23,
   "id": "d6fdc5a8-191a-40eb-8dba-d942370f64e6",
   "metadata": {},
   "outputs": [],
   "source": [
    "# Train FastText model \n",
    "fasttext_model = FastText(sentences, vector_size=50, window=5,\n",
    " min_count=1, workers=4)"
   ]
  },
  {
   "cell_type": "code",
   "execution_count": 24,
   "id": "81b2f888-60f8-4a9b-bb51-1567eadfe8a3",
   "metadata": {},
   "outputs": [
    {
     "name": "stdout",
     "output_type": "stream",
     "text": [
      "[-7.4863771e-04 -1.2441239e-03 -7.8757707e-04 -1.2510584e-03\n",
      " -2.4062311e-03  2.9784511e-04  6.9414341e-04 -2.7454433e-03\n",
      " -2.9254644e-04  3.3950156e-03 -7.1672730e-05  1.0520812e-03\n",
      " -1.8721876e-03  7.9723075e-04  3.6351306e-03 -7.5979461e-04\n",
      " -2.5690862e-04 -2.1632875e-03  1.4319464e-03  2.2898139e-03\n",
      "  1.8566982e-03 -1.2359655e-03 -1.7863109e-03 -1.7633548e-03\n",
      "  1.3493120e-03 -9.9458976e-04  4.4526326e-04 -4.0159834e-04\n",
      "  1.0697113e-03 -1.2284342e-03 -8.5366966e-04  3.1625447e-03\n",
      "  5.6990716e-03 -7.0645398e-04 -3.6355164e-03 -7.0699234e-04\n",
      " -1.5263894e-03 -3.3224765e-03  1.2530701e-04  8.2067237e-04\n",
      "  1.6236919e-03 -5.1742466e-04 -1.3146736e-03 -5.1431577e-03\n",
      " -5.1055867e-03  2.9259718e-03  1.9810922e-03  3.2832872e-03\n",
      " -1.9317989e-04  1.1861072e-03]\n"
     ]
    }
   ],
   "source": [
    "print(fasttext_model.wv[\"FastText\"])  # Word vector for \"FastText\""
   ]
  },
  {
   "cell_type": "markdown",
   "id": "65d2c3da-0d2b-4308-98d9-feb8cc03c7ac",
   "metadata": {},
   "source": [
    "# Using BERT Embeddings (Hugging Face Transformers) "
   ]
  },
  {
   "cell_type": "code",
   "execution_count": 25,
   "id": "525628aa-30e4-4b0d-90fd-2a34929bc8f0",
   "metadata": {},
   "outputs": [],
   "source": [
    "#!pip install transformers"
   ]
  },
  {
   "cell_type": "code",
   "execution_count": 26,
   "id": "65b1399c-c428-4051-b7b4-484b1bbcdb6f",
   "metadata": {},
   "outputs": [],
   "source": [
    "#!pip install torch"
   ]
  },
  {
   "cell_type": "code",
   "execution_count": 27,
   "id": "2a78ce1d-1cab-4c31-8d12-0ea6e9fc6237",
   "metadata": {},
   "outputs": [],
   "source": [
    "#!pip install torch torchvision torchaudio --index-url https://download.pytorch.org/whl/cpu"
   ]
  },
  {
   "cell_type": "code",
   "execution_count": 28,
   "id": "c048f1a5-e9aa-41ff-818f-ebe828ec1e91",
   "metadata": {},
   "outputs": [
    {
     "name": "stdout",
     "output_type": "stream",
     "text": [
      "2.6.0+cpu\n",
      "False\n",
      "BERT output shape: torch.Size([1, 5, 768])\n"
     ]
    }
   ],
   "source": [
    "import torch\n",
    "from transformers import BertModel, BertTokenizer\n",
    "\n",
    "print(torch.__version__)\n",
    "print(torch.backends.mps.is_available())  # Should be False on CPU-only systems\n",
    "\n",
    "# Load BERT base (on CPU)\n",
    "tokenizer = BertTokenizer.from_pretrained(\"bert-base-uncased\")\n",
    "model = BertModel.from_pretrained(\"bert-base-uncased\")\n",
    "\n",
    "# Try encoding a sample\n",
    "inputs = tokenizer(\"Hello world!\", return_tensors=\"pt\")\n",
    "outputs = model(**inputs)\n",
    "\n",
    "print(\"BERT output shape:\", outputs.last_hidden_state.shape)\n"
   ]
  },
  {
   "cell_type": "code",
   "execution_count": 29,
   "id": "ae43d1f4-6d3c-4674-97c8-a9b481294e0a",
   "metadata": {},
   "outputs": [],
   "source": [
    "# Load pre-trained BERT model and tokenizer \n",
    "tokenizer = BertTokenizer.from_pretrained(\"bert-base-uncased\") \n",
    "model = BertModel.from_pretrained(\"bert-base-uncased\") "
   ]
  },
  {
   "cell_type": "code",
   "execution_count": 30,
   "id": "99ba9c85-719a-4b4a-923a-12ee7319e2f7",
   "metadata": {},
   "outputs": [],
   "source": [
    "sentence = \"BERT generates contextual embeddings.\" \n",
    "tokens = tokenizer(sentence, return_tensors=\"pt\") "
   ]
  },
  {
   "cell_type": "code",
   "execution_count": 31,
   "id": "a3768507-24a7-4100-8293-73f4549581cc",
   "metadata": {},
   "outputs": [],
   "source": [
    " # Get embeddings \n",
    "with torch.no_grad(): \n",
    "    output = model(**tokens) \n",
    "    embeddings = output.last_hidden_state "
   ]
  },
  {
   "cell_type": "code",
   "execution_count": 32,
   "id": "09bcb26c-1d9e-452c-b473-97a34d76a7e1",
   "metadata": {},
   "outputs": [
    {
     "name": "stdout",
     "output_type": "stream",
     "text": [
      "torch.Size([1, 11, 768])\n"
     ]
    }
   ],
   "source": [
    "print(embeddings.shape)  # (batch_size, sequence_length, hidden_size) "
   ]
  }
 ],
 "metadata": {
  "kernelspec": {
   "display_name": "Python 3 (ipykernel)",
   "language": "python",
   "name": "python3"
  },
  "language_info": {
   "codemirror_mode": {
    "name": "ipython",
    "version": 3
   },
   "file_extension": ".py",
   "mimetype": "text/x-python",
   "name": "python",
   "nbconvert_exporter": "python",
   "pygments_lexer": "ipython3",
   "version": "3.12.7"
  }
 },
 "nbformat": 4,
 "nbformat_minor": 5
}
